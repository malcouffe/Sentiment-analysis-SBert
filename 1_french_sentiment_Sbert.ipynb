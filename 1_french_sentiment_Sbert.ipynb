{
 "cells": [
  {
   "cell_type": "markdown",
   "metadata": {},
   "source": [
    "# Définition du modèle"
   ]
  },
  {
   "cell_type": "markdown",
   "metadata": {},
   "source": [
    "Entrainement de la couche de classification seulement."
   ]
  },
  {
   "cell_type": "code",
   "execution_count": 1,
   "metadata": {},
   "outputs": [
    {
     "name": "stderr",
     "output_type": "stream",
     "text": [
      "/home/onyxia/work/.venv/lib/python3.10/site-packages/sentence_transformers/cross_encoder/CrossEncoder.py:11: TqdmExperimentalWarning: Using `tqdm.autonotebook.tqdm` in notebook mode. Use `tqdm.tqdm` instead to force console mode (e.g. in jupyter console)\n",
      "  from tqdm.autonotebook import tqdm, trange\n",
      "2024-10-22 14:37:25.758810: I tensorflow/core/util/port.cc:153] oneDNN custom operations are on. You may see slightly different numerical results due to floating-point round-off errors from different computation orders. To turn them off, set the environment variable `TF_ENABLE_ONEDNN_OPTS=0`.\n",
      "2024-10-22 14:37:25.778205: E external/local_xla/xla/stream_executor/cuda/cuda_fft.cc:485] Unable to register cuFFT factory: Attempting to register factory for plugin cuFFT when one has already been registered\n",
      "2024-10-22 14:37:25.800858: E external/local_xla/xla/stream_executor/cuda/cuda_dnn.cc:8454] Unable to register cuDNN factory: Attempting to register factory for plugin cuDNN when one has already been registered\n",
      "2024-10-22 14:37:25.807495: E external/local_xla/xla/stream_executor/cuda/cuda_blas.cc:1452] Unable to register cuBLAS factory: Attempting to register factory for plugin cuBLAS when one has already been registered\n",
      "2024-10-22 14:37:25.827092: I tensorflow/core/platform/cpu_feature_guard.cc:210] This TensorFlow binary is optimized to use available CPU instructions in performance-critical operations.\n",
      "To enable the following instructions: AVX2 AVX512F AVX512_VNNI FMA, in other operations, rebuild TensorFlow with the appropriate compiler flags.\n",
      "2024-10-22 14:37:26.930118: W tensorflow/compiler/tf2tensorrt/utils/py_utils.cc:38] TF-TRT Warning: Could not find TensorRT\n",
      "/home/onyxia/work/.venv/lib/python3.10/site-packages/transformers/tokenization_utils_base.py:1601: FutureWarning: `clean_up_tokenization_spaces` was not set. It will be set to `True` by default. This behavior will be depracted in transformers v4.45, and will be then set to `False` by default. For more details check this issue: https://github.com/huggingface/transformers/issues/31884\n",
      "  warnings.warn(\n"
     ]
    }
   ],
   "source": [
    "from sentence_transformers import SentenceTransformer\n",
    "import torch\n",
    "import torch.nn as nn\n",
    "\n",
    "# Charger le modèle pré-entraîné\n",
    "model = SentenceTransformer('sentence-transformers/all-MiniLM-L6-v2')\n",
    "\n",
    "# Geler les poids pour ne pas réentraîner le modèle de base\n",
    "for param in model.parameters():\n",
    "    param.requires_grad = False\n",
    "\n",
    "# Modèle de classification avec une couche fully-connected\n",
    "class SentenceClassificationModel(nn.Module):\n",
    "    def __init__(self, base_model):\n",
    "        super(SentenceClassificationModel, self).__init__()\n",
    "        self.base_model = base_model\n",
    "        self.fc = nn.Linear(384, 2)  # Couche pour la classification binaire\n",
    "\n",
    "    def forward(self, texts):\n",
    "        # Encoder les textes en embeddings\n",
    "        embeddings = self.base_model.encode(texts, convert_to_tensor=True).to(device)\n",
    "        # Appliquer la couche fully-connected\n",
    "        return self.fc(embeddings)\n",
    "\n",
    "# Initialiser le modèle\n",
    "custom_model = SentenceClassificationModel(model)\n",
    "\n",
    "# Passer sur GPU si disponible\n",
    "device = torch.device(\"cuda\" if torch.cuda.is_available() else \"cpu\")\n",
    "custom_model = custom_model.to(device)\n"
   ]
  },
  {
   "cell_type": "markdown",
   "metadata": {},
   "source": [
    "# Définition du dataset"
   ]
  },
  {
   "cell_type": "code",
   "execution_count": 2,
   "metadata": {},
   "outputs": [
    {
     "name": "stdout",
     "output_type": "stream",
     "text": [
      "Taille train : 160000\n",
      "Taille validation : 20000\n",
      "Taille test : 20000\n"
     ]
    }
   ],
   "source": [
    "from torch.utils.data import Dataset, DataLoader\n",
    "from datasets import load_dataset\n",
    "\n",
    "# Charger le dataset Allociné\n",
    "dataset = load_dataset(\"tblard/allocine\")\n",
    "\n",
    "# Redéfinir les ensembles train, validation, test\n",
    "dataset = {\n",
    "    'train': dataset['train'],\n",
    "    'validation': dataset['validation'],\n",
    "    'test': dataset['test']\n",
    "}\n",
    "\n",
    "# Classe Dataset pour PyTorch\n",
    "class AllocineDataset(Dataset):\n",
    "    def __init__(self, dataset):\n",
    "        self.dataset = dataset\n",
    "\n",
    "    def __len__(self):\n",
    "        return len(self.dataset)\n",
    "\n",
    "    def __getitem__(self, idx):\n",
    "        # Récupérer texte et label\n",
    "        text = self.dataset[idx]['review']\n",
    "        label = self.dataset[idx]['label']\n",
    "        return text, torch.tensor(label, dtype=torch.long)\n",
    "\n",
    "# Créer les datasets\n",
    "train_dataset = AllocineDataset(dataset['train'])\n",
    "val_dataset = AllocineDataset(dataset['validation'])\n",
    "test_dataset = AllocineDataset(dataset['test'])\n",
    "\n",
    "# Afficher la taille des datasets\n",
    "print(f\"Taille train : {len(train_dataset)}\")\n",
    "print(f\"Taille validation : {len(val_dataset)}\")\n",
    "print(f\"Taille test : {len(test_dataset)}\")\n",
    "\n",
    "# Créer les DataLoaders\n",
    "train_loader = DataLoader(train_dataset, batch_size=32, shuffle=True)\n",
    "val_loader = DataLoader(val_dataset, batch_size=32)\n",
    "test_loader = DataLoader(test_dataset, batch_size=32)"
   ]
  },
  {
   "cell_type": "markdown",
   "metadata": {},
   "source": [
    "# Boucle d'entrainement et validation"
   ]
  },
  {
   "cell_type": "code",
   "execution_count": 3,
   "metadata": {},
   "outputs": [],
   "source": [
    "from tqdm import tqdm\n",
    "import torch.optim as optim\n",
    "\n",
    "# Définir la fonction de perte et l'optimiseur\n",
    "criterion = nn.CrossEntropyLoss()\n",
    "optimizer = optim.Adam(custom_model.parameters(), lr=1e-3)\n",
    "\n",
    "# Fonction d'entraînement du modèle avec visualisation et validation\n",
    "def train(model, train_loader, val_loader, criterion, optimizer, num_epochs=5):\n",
    "    for epoch in range(num_epochs):\n",
    "        # Mode entraînement\n",
    "        model.train()\n",
    "        running_loss = 0.0\n",
    "        print(f\"Epoch {epoch+1}/{num_epochs}:\")\n",
    "\n",
    "        # Boucle d'entraînement\n",
    "        for inputs, labels in tqdm(train_loader, desc=\"Training\", leave=False):\n",
    "            # Les labels doivent être déplacés sur le GPU (si possible)\n",
    "            labels = labels.to(device)\n",
    "            # Réinitialiser les gradients\n",
    "            optimizer.zero_grad()\n",
    "\n",
    "            # Forward pass\n",
    "            outputs = model(inputs)\n",
    "            \n",
    "            # Calculer la perte\n",
    "            loss = criterion(outputs, labels)\n",
    "            \n",
    "            # Backward pass et optimisation\n",
    "            loss.backward()\n",
    "            optimizer.step()\n",
    "\n",
    "            # Accumuler la perte\n",
    "            running_loss += loss.item()\n",
    "\n",
    "        # Afficher la perte moyenne pour l'époque\n",
    "        avg_train_loss = running_loss / len(train_loader)\n",
    "        print(f'Epoch {epoch+1}/{num_epochs} completed. Training Loss: {avg_train_loss:.4f}')\n",
    "\n",
    "        # Validation après chaque époque\n",
    "        model.eval()\n",
    "        val_loss = 0.0\n",
    "        correct = 0\n",
    "        total = 0\n",
    "        with torch.no_grad():\n",
    "            for inputs, labels in tqdm(val_loader, desc=\"Validating\", leave=False):\n",
    "                # Les labels doivent être déplacés sur le GPU (si possible)\n",
    "                labels = labels.to(device)\n",
    "                outputs = model(inputs)\n",
    "                loss = criterion(outputs, labels)\n",
    "                val_loss += loss.item()\n",
    "\n",
    "                _, predicted = torch.max(outputs, 1)\n",
    "                total += labels.size(0)\n",
    "                correct += (predicted == labels).sum().item()\n",
    "\n",
    "        avg_val_loss = val_loss / len(val_loader)\n",
    "        accuracy = 100 * correct / total\n",
    "        print(f'Validation Loss: {avg_val_loss:.4f}, Accuracy: {accuracy:.2f}%\\n')"
   ]
  },
  {
   "cell_type": "code",
   "execution_count": 4,
   "metadata": {},
   "outputs": [],
   "source": [
    "# Fonction d'évaluation du modèle avec visualisation\n",
    "def evaluate(model, test_loader):\n",
    "    model.eval()  # Mettre le modèle en mode évaluation\n",
    "    correct = 0\n",
    "    total = 0\n",
    "    print(\"Evaluating model on test data...\")\n",
    "    with torch.no_grad():\n",
    "        for inputs, labels in tqdm(test_loader, desc=\"Evaluating\", leave=False):\n",
    "            labels = labels.to(device)\n",
    "            outputs = model(inputs)\n",
    "            _, predicted = torch.max(outputs.data, 1)\n",
    "            total += labels.size(0)\n",
    "            correct += (predicted == labels).sum().item()\n",
    "\n",
    "    accuracy = 100 * correct / total\n",
    "    print(f'Accuracy on test data: {accuracy:.2f}%\\n')\n",
    "    return accuracy"
   ]
  },
  {
   "cell_type": "markdown",
   "metadata": {},
   "source": [
    "# Entrainement"
   ]
  },
  {
   "cell_type": "code",
   "execution_count": 5,
   "metadata": {},
   "outputs": [
    {
     "name": "stdout",
     "output_type": "stream",
     "text": [
      "Starting training...\n",
      "Epoch 1/3:\n"
     ]
    },
    {
     "name": "stderr",
     "output_type": "stream",
     "text": [
      "                                                             \r"
     ]
    },
    {
     "name": "stdout",
     "output_type": "stream",
     "text": [
      "Epoch 1/3 completed. Training Loss: 0.5752\n"
     ]
    },
    {
     "name": "stderr",
     "output_type": "stream",
     "text": [
      "                                                             \r"
     ]
    },
    {
     "name": "stdout",
     "output_type": "stream",
     "text": [
      "Validation Loss: 0.5325, Accuracy: 73.86%\n",
      "\n",
      "Epoch 2/3:\n"
     ]
    },
    {
     "name": "stderr",
     "output_type": "stream",
     "text": [
      "                                                             \r"
     ]
    },
    {
     "name": "stdout",
     "output_type": "stream",
     "text": [
      "Epoch 2/3 completed. Training Loss: 0.5320\n"
     ]
    },
    {
     "name": "stderr",
     "output_type": "stream",
     "text": [
      "                                                             \r"
     ]
    },
    {
     "name": "stdout",
     "output_type": "stream",
     "text": [
      "Validation Loss: 0.5170, Accuracy: 74.70%\n",
      "\n",
      "Epoch 3/3:\n"
     ]
    },
    {
     "name": "stderr",
     "output_type": "stream",
     "text": [
      "                                                             \r"
     ]
    },
    {
     "name": "stdout",
     "output_type": "stream",
     "text": [
      "Epoch 3/3 completed. Training Loss: 0.5223\n"
     ]
    },
    {
     "name": "stderr",
     "output_type": "stream",
     "text": [
      "                                                             \r"
     ]
    },
    {
     "name": "stdout",
     "output_type": "stream",
     "text": [
      "Validation Loss: 0.5112, Accuracy: 74.79%\n",
      "\n",
      "Training complete. Starting evaluation...\n",
      "Evaluating model on test data...\n"
     ]
    },
    {
     "name": "stderr",
     "output_type": "stream",
     "text": [
      "                                                             "
     ]
    },
    {
     "name": "stdout",
     "output_type": "stream",
     "text": [
      "Accuracy on test data: 74.62%\n",
      "\n"
     ]
    },
    {
     "name": "stderr",
     "output_type": "stream",
     "text": [
      "\r"
     ]
    },
    {
     "data": {
      "text/plain": [
       "74.62"
      ]
     },
     "execution_count": 5,
     "metadata": {},
     "output_type": "execute_result"
    }
   ],
   "source": [
    "# Entraîner le modèle\n",
    "print(\"Starting training...\")\n",
    "train(custom_model, train_loader, val_loader, criterion, optimizer, num_epochs=3)\n",
    "\n",
    "# Évaluer le modèle sur les données de test\n",
    "print(\"Training complete. Starting evaluation...\")\n",
    "evaluate(custom_model, test_loader)"
   ]
  },
  {
   "cell_type": "markdown",
   "metadata": {},
   "source": [
    "Nouvel entrainement en dégelant les deux dernières couches d'encoder du modèle de Sentence-Transformers."
   ]
  },
  {
   "cell_type": "code",
   "execution_count": 6,
   "metadata": {},
   "outputs": [],
   "source": [
    "from sentence_transformers import SentenceTransformer\n",
    "import torch\n",
    "import torch.nn as nn\n",
    "\n",
    "# Charger le modèle SentenceTransformer pré-entraîné\n",
    "model = SentenceTransformer('sentence-transformers/all-MiniLM-L6-v2')\n",
    "\n",
    "# Geler tous les paramètres au départ\n",
    "for param in model.parameters():\n",
    "    param.requires_grad = False\n",
    "\n",
    "# Identifier les couches BERT du modèle\n",
    "# Ces couches peuvent être accessibles en accédant au modèle sous-jacent 'auto_model'\n",
    "# Pour BERT, les couches sont généralement dans l'attribut 'encoder.layer'\n",
    "bert_model = model[0].auto_model\n",
    "\n",
    "# Dégeler les dernières 2 couches\n",
    "for layer in bert_model.encoder.layer[-2:]:\n",
    "    for param in layer.parameters():\n",
    "        param.requires_grad = True\n",
    "\n",
    "# Créer la couche de classification\n",
    "class SentenceClassificationModel(nn.Module):\n",
    "    def __init__(self, base_model, embedding_dim):\n",
    "        super(SentenceClassificationModel, self).__init__()\n",
    "        self.base_model = base_model\n",
    "        self.fc = nn.Linear(embedding_dim, 2)\n",
    "\n",
    "    def forward(self, texts):\n",
    "        embeddings = self.base_model.encode(texts, convert_to_tensor=True).to(device)\n",
    "        x = self.fc(embeddings)\n",
    "        return x\n",
    "\n",
    "# Obtenir la dimension de l'embedding\n",
    "embedding_dim = model.get_sentence_embedding_dimension()\n",
    "\n",
    "# Initialiser le modèle de classification personnalisé\n",
    "custom_model = SentenceClassificationModel(model, embedding_dim)\n",
    "\n",
    "# Passer le modèle sur GPU (si disponible)\n",
    "device = torch.device(\"cuda\" if torch.cuda.is_available() else \"cpu\")\n",
    "custom_model = custom_model.to(device)\n"
   ]
  },
  {
   "cell_type": "code",
   "execution_count": 7,
   "metadata": {},
   "outputs": [
    {
     "name": "stdout",
     "output_type": "stream",
     "text": [
      "Starting training...\n",
      "Epoch 1/3:\n"
     ]
    },
    {
     "name": "stderr",
     "output_type": "stream",
     "text": [
      "                                                             \r"
     ]
    },
    {
     "name": "stdout",
     "output_type": "stream",
     "text": [
      "Epoch 1/3 completed. Training Loss: 0.6954\n"
     ]
    },
    {
     "name": "stderr",
     "output_type": "stream",
     "text": [
      "                                                             \r"
     ]
    },
    {
     "name": "stdout",
     "output_type": "stream",
     "text": [
      "Validation Loss: 0.6946, Accuracy: 49.80%\n",
      "\n",
      "Epoch 2/3:\n"
     ]
    },
    {
     "name": "stderr",
     "output_type": "stream",
     "text": [
      "                                                             \r"
     ]
    },
    {
     "name": "stdout",
     "output_type": "stream",
     "text": [
      "Epoch 2/3 completed. Training Loss: 0.6954\n"
     ]
    },
    {
     "name": "stderr",
     "output_type": "stream",
     "text": [
      "                                                             \r"
     ]
    },
    {
     "name": "stdout",
     "output_type": "stream",
     "text": [
      "Validation Loss: 0.6946, Accuracy: 49.80%\n",
      "\n",
      "Epoch 3/3:\n"
     ]
    },
    {
     "name": "stderr",
     "output_type": "stream",
     "text": [
      "                                                             \r"
     ]
    },
    {
     "name": "stdout",
     "output_type": "stream",
     "text": [
      "Epoch 3/3 completed. Training Loss: 0.6954\n"
     ]
    },
    {
     "name": "stderr",
     "output_type": "stream",
     "text": [
      "                                                             \r"
     ]
    },
    {
     "name": "stdout",
     "output_type": "stream",
     "text": [
      "Validation Loss: 0.6946, Accuracy: 49.80%\n",
      "\n",
      "Training complete. Starting evaluation...\n",
      "Evaluating model on test data...\n"
     ]
    },
    {
     "name": "stderr",
     "output_type": "stream",
     "text": [
      "                                                             "
     ]
    },
    {
     "name": "stdout",
     "output_type": "stream",
     "text": [
      "Accuracy on test data: 51.05%\n",
      "\n"
     ]
    },
    {
     "name": "stderr",
     "output_type": "stream",
     "text": [
      "\r"
     ]
    },
    {
     "data": {
      "text/plain": [
       "51.055"
      ]
     },
     "execution_count": 7,
     "metadata": {},
     "output_type": "execute_result"
    }
   ],
   "source": [
    "# Entraîner le modèle\n",
    "print(\"Starting training...\")\n",
    "train(custom_model, train_loader, val_loader, criterion, optimizer, num_epochs=3)\n",
    "\n",
    "# Évaluer le modèle sur les données de test\n",
    "print(\"Training complete. Starting evaluation...\")\n",
    "evaluate(custom_model, test_loader)"
   ]
  },
  {
   "cell_type": "markdown",
   "metadata": {},
   "source": [
    "Les dernières couches ne produisent pas de résultats probants, car elles capturent des relations plus subtiles entre les mots dans une langue. Étant donné que le modèle a été entraîné en anglais, et que l'objectif est de l'adapter à des données en français, il serait plus judicieux de dégeler les premières couches. Celles-ci se concentrent davantage sur la compréhension de la syntaxe et des structures de base, permettant ainsi au modèle de mieux s’adapter aux caractéristiques linguistiques fondamentales du français."
   ]
  }
 ],
 "metadata": {
  "kernelspec": {
   "display_name": ".venv",
   "language": "python",
   "name": "python3"
  },
  "language_info": {
   "codemirror_mode": {
    "name": "ipython",
    "version": 3
   },
   "file_extension": ".py",
   "mimetype": "text/x-python",
   "name": "python",
   "nbconvert_exporter": "python",
   "pygments_lexer": "ipython3",
   "version": "3.10.12"
  }
 },
 "nbformat": 4,
 "nbformat_minor": 2
}
